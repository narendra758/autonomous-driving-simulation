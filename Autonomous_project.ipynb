{
  "nbformat": 4,
  "nbformat_minor": 0,
  "metadata": {
    "colab": {
      "provenance": []
    },
    "kernelspec": {
      "name": "python3",
      "display_name": "Python 3"
    },
    "language_info": {
      "name": "python"
    }
  },
  "cells": [
    {
      "cell_type": "code",
      "source": [
        "from google.colab import drive\n",
        "drive.mount('/content/drive')\n",
        "\n",
        "# Define the path to your dataset within Google Drive\n",
        "# For example, if your dataset is located at MyDrive/Datasets/YourDataset\n",
        "dataset_path = \"/Intelligent_Network_Flow_Optimization_Prototype_Infrastructure_Traffic_Sensor_System_Data_Aggregator.csv\"\n"
      ],
      "metadata": {
        "id": "AjmPS1bJmYPz",
        "colab": {
          "base_uri": "https://localhost:8080/"
        },
        "outputId": "5b713e18-0360-4405-b6e0-96d57648cfd7"
      },
      "execution_count": null,
      "outputs": [
        {
          "output_type": "stream",
          "name": "stdout",
          "text": [
            "Drive already mounted at /content/drive; to attempt to forcibly remount, call drive.mount(\"/content/drive\", force_remount=True).\n"
          ]
        }
      ]
    },
    {
      "cell_type": "code",
      "source": [
        "import pandas as pd\n",
        "\n",
        "\n",
        "data = pd.read_csv(dataset_path)  # Use the dataset_path variable\n",
        "print(data.head())"
      ],
      "metadata": {
        "colab": {
          "base_uri": "https://localhost:8080/"
        },
        "id": "kW_UE6nPn7Ax",
        "outputId": "759acad7-5c6a-46d1-f4ce-e18d6b4c5eeb"
      },
      "execution_count": null,
      "outputs": [
        {
          "output_type": "stream",
          "name": "stdout",
          "text": [
            "                 DZId  DSId     DateReceived  StartInterval  EndInterval  \\\n",
            "0  005es17025:_MN_Stn    38  1/12/2015 10:27             42            0   \n",
            "1  005es17025:_MS_Stn    81  1/12/2015 10:27             42            0   \n",
            "2  005es17075:_MS_Stn    80  1/12/2015 10:27             42            0   \n",
            "3  005es17076:MMN_Stn    39  1/12/2015 10:27             42            0   \n",
            "4  005es17131:MMS_Stn    79  1/12/2015 10:27             42            0   \n",
            "\n",
            "   IntervalLength        BeginTime          EndTime  Volume  Occupancy  \\\n",
            "0              20  1/12/2015 10:27  1/12/2015 10:27       1        0.4   \n",
            "1              20  1/12/2015 10:27  1/12/2015 10:27       1        0.2   \n",
            "2              20  1/12/2015 10:27  1/12/2015 10:27       0        0.0   \n",
            "3              20  1/12/2015 10:27  1/12/2015 10:27       0        0.0   \n",
            "4              20  1/12/2015 10:27  1/12/2015 10:27       5        2.9   \n",
            "\n",
            "   AvgSpeed  Queued  Congested  DZStatus    DataType  RoadwayId  \n",
            "0        60       0          0       NaN  Calculated       1000  \n",
            "1        76       0          0       NaN    Measured       1100  \n",
            "2        60       0          0       NaN  Calculated       1100  \n",
            "3         0       1          0       NaN  Calculated       1000  \n",
            "4        60       0          0       NaN  Calculated       1100  \n"
          ]
        }
      ]
    },
    {
      "cell_type": "code",
      "source": [
        "from sklearn.model_selection import train_test_split\n",
        "from sklearn.preprocessing import StandardScaler\n",
        "\n",
        "# Select features for input\n",
        "# Here, we assume 'Volume', 'Occupancy', 'AvgSpeed', 'Queued', and 'Congested' are relevant features\n",
        "X = data[['Volume', 'Occupancy', 'AvgSpeed', 'Queued', 'Congested']]\n",
        "\n",
        "# For demonstration, let's assume 'Volume' correlates with the action label\n",
        "# Replace this with the actual target column if you have one for vehicle actions\n",
        "y = data['Volume']\n",
        "\n",
        "# Split the data into training and testing sets\n",
        "X_train, X_test, y_train, y_test = train_test_split(X, y, test_size=0.2, random_state=42)\n",
        "\n",
        "# Standardize the features\n",
        "scaler = StandardScaler()\n",
        "X_train = scaler.fit_transform(X_train)\n",
        "X_test = scaler.transform(X_test)\n"
      ],
      "metadata": {
        "id": "cAv-03Diq5yI"
      },
      "execution_count": null,
      "outputs": []
    },
    {
      "cell_type": "code",
      "source": [
        "#used and compiled neural network model\n",
        "import tensorflow as tf\n",
        "from tensorflow.keras.models import Sequential\n",
        "from tensorflow.keras.layers import Dense\n",
        "\n",
        "# Define the model\n",
        "model = Sequential([\n",
        "    Dense(64, activation='relu', input_shape=(X_train.shape[1],)),\n",
        "    Dense(32, activation='relu'),\n",
        "    Dense(1, activation='linear')  # Single output for demonstration; adjust as needed\n",
        "])\n",
        "\n",
        "# Compile the model\n",
        "model.compile(optimizer='adam', loss='mse', metrics=['mae']) #loss function and additional metrics\n",
        "\n",
        "# Train the model\n",
        "history = model.fit(X_train, y_train, validation_data=(X_test, y_test), epochs=10, batch_size=32)\n"
      ],
      "metadata": {
        "colab": {
          "base_uri": "https://localhost:8080/"
        },
        "id": "2lHSHHr8q8Ia",
        "outputId": "bee119da-5624-4257-9b0f-1ef6c2638924"
      },
      "execution_count": null,
      "outputs": [
        {
          "output_type": "stream",
          "name": "stderr",
          "text": [
            "/usr/local/lib/python3.10/dist-packages/keras/src/layers/core/dense.py:87: UserWarning: Do not pass an `input_shape`/`input_dim` argument to a layer. When using Sequential models, prefer using an `Input(shape)` object as the first layer in the model instead.\n",
            "  super().__init__(activity_regularizer=activity_regularizer, **kwargs)\n"
          ]
        },
        {
          "output_type": "stream",
          "name": "stdout",
          "text": [
            "Epoch 1/10\n",
            "\u001b[1m21019/21019\u001b[0m \u001b[32m━━━━━━━━━━━━━━━━━━━━\u001b[0m\u001b[37m\u001b[0m \u001b[1m49s\u001b[0m 2ms/step - loss: 15.4052 - mae: 0.8655 - val_loss: 0.0028 - val_mae: 0.0332\n",
            "Epoch 2/10\n",
            "\u001b[1m21019/21019\u001b[0m \u001b[32m━━━━━━━━━━━━━━━━━━━━\u001b[0m\u001b[37m\u001b[0m \u001b[1m43s\u001b[0m 2ms/step - loss: 0.0026 - mae: 0.0268 - val_loss: 8.9849e-04 - val_mae: 0.0145\n",
            "Epoch 3/10\n",
            "\u001b[1m21019/21019\u001b[0m \u001b[32m━━━━━━━━━━━━━━━━━━━━\u001b[0m\u001b[37m\u001b[0m \u001b[1m46s\u001b[0m 2ms/step - loss: 0.0022 - mae: 0.0235 - val_loss: 0.0105 - val_mae: 0.0762\n",
            "Epoch 4/10\n",
            "\u001b[1m21019/21019\u001b[0m \u001b[32m━━━━━━━━━━━━━━━━━━━━\u001b[0m\u001b[37m\u001b[0m \u001b[1m42s\u001b[0m 2ms/step - loss: 0.0019 - mae: 0.0216 - val_loss: 2.1845e-04 - val_mae: 0.0118\n",
            "Epoch 5/10\n",
            "\u001b[1m21019/21019\u001b[0m \u001b[32m━━━━━━━━━━━━━━━━━━━━\u001b[0m\u001b[37m\u001b[0m \u001b[1m82s\u001b[0m 2ms/step - loss: 0.0017 - mae: 0.0192 - val_loss: 0.0011 - val_mae: 0.0243\n",
            "Epoch 6/10\n",
            "\u001b[1m21019/21019\u001b[0m \u001b[32m━━━━━━━━━━━━━━━━━━━━\u001b[0m\u001b[37m\u001b[0m \u001b[1m85s\u001b[0m 2ms/step - loss: 0.0013 - mae: 0.0187 - val_loss: 0.0054 - val_mae: 0.0419\n",
            "Epoch 7/10\n",
            "\u001b[1m21019/21019\u001b[0m \u001b[32m━━━━━━━━━━━━━━━━━━━━\u001b[0m\u001b[37m\u001b[0m \u001b[1m82s\u001b[0m 2ms/step - loss: 0.0012 - mae: 0.0177 - val_loss: 4.3612e-04 - val_mae: 0.0175\n",
            "Epoch 8/10\n",
            "\u001b[1m21019/21019\u001b[0m \u001b[32m━━━━━━━━━━━━━━━━━━━━\u001b[0m\u001b[37m\u001b[0m \u001b[1m43s\u001b[0m 2ms/step - loss: 8.1394e-04 - mae: 0.0141 - val_loss: 1.3445e-04 - val_mae: 0.0095\n",
            "Epoch 9/10\n",
            "\u001b[1m21019/21019\u001b[0m \u001b[32m━━━━━━━━━━━━━━━━━━━━\u001b[0m\u001b[37m\u001b[0m \u001b[1m47s\u001b[0m 2ms/step - loss: 8.6082e-04 - mae: 0.0145 - val_loss: 3.2964e-04 - val_mae: 0.0162\n",
            "Epoch 10/10\n",
            "\u001b[1m21019/21019\u001b[0m \u001b[32m━━━━━━━━━━━━━━━━━━━━\u001b[0m\u001b[37m\u001b[0m \u001b[1m52s\u001b[0m 2ms/step - loss: 8.6680e-04 - mae: 0.0143 - val_loss: 8.5934e-05 - val_mae: 0.0069\n"
          ]
        }
      ]
    },
    {
      "cell_type": "code",
      "source": [
        "!pip install swig\n",
        "!pip install gymnasium[box2d]"
      ],
      "metadata": {
        "colab": {
          "base_uri": "https://localhost:8080/"
        },
        "id": "lhMcZohTu4Vf",
        "outputId": "80c2835b-f9e2-40e3-9a7e-c137b7e76c98"
      },
      "execution_count": null,
      "outputs": [
        {
          "output_type": "stream",
          "name": "stdout",
          "text": [
            "Collecting swig\n",
            "  Downloading swig-4.2.1.post0-py2.py3-none-manylinux_2_5_x86_64.manylinux1_x86_64.whl.metadata (3.5 kB)\n",
            "Downloading swig-4.2.1.post0-py2.py3-none-manylinux_2_5_x86_64.manylinux1_x86_64.whl (1.8 MB)\n",
            "\u001b[?25l   \u001b[90m━━━━━━━━━━━━━━━━━━━━━━━━━━━━━━━━━━━━━━━━\u001b[0m \u001b[32m0.0/1.8 MB\u001b[0m \u001b[31m?\u001b[0m eta \u001b[36m-:--:--\u001b[0m\r\u001b[2K   \u001b[91m━━━━━━━━\u001b[0m\u001b[90m╺\u001b[0m\u001b[90m━━━━━━━━━━━━━━━━━━━━━━━━━━━━━━━\u001b[0m \u001b[32m0.4/1.8 MB\u001b[0m \u001b[31m11.2 MB/s\u001b[0m eta \u001b[36m0:00:01\u001b[0m\r\u001b[2K   \u001b[91m━━━━━━━━━━━━━━━━━━━━━━━━━━━━━━━━━━━━━━━\u001b[0m\u001b[91m╸\u001b[0m \u001b[32m1.8/1.8 MB\u001b[0m \u001b[31m32.7 MB/s\u001b[0m eta \u001b[36m0:00:01\u001b[0m\r\u001b[2K   \u001b[90m━━━━━━━━━━━━━━━━━━━━━━━━━━━━━━━━━━━━━━━━\u001b[0m \u001b[32m1.8/1.8 MB\u001b[0m \u001b[31m24.0 MB/s\u001b[0m eta \u001b[36m0:00:00\u001b[0m\n",
            "\u001b[?25hInstalling collected packages: swig\n",
            "Successfully installed swig-4.2.1.post0\n",
            "Collecting gymnasium[box2d]\n",
            "  Downloading gymnasium-1.0.0-py3-none-any.whl.metadata (9.5 kB)\n",
            "Requirement already satisfied: numpy>=1.21.0 in /usr/local/lib/python3.10/dist-packages (from gymnasium[box2d]) (1.26.4)\n",
            "Requirement already satisfied: cloudpickle>=1.2.0 in /usr/local/lib/python3.10/dist-packages (from gymnasium[box2d]) (3.1.0)\n",
            "Requirement already satisfied: typing-extensions>=4.3.0 in /usr/local/lib/python3.10/dist-packages (from gymnasium[box2d]) (4.12.2)\n",
            "Collecting farama-notifications>=0.0.1 (from gymnasium[box2d])\n",
            "  Downloading Farama_Notifications-0.0.4-py3-none-any.whl.metadata (558 bytes)\n",
            "Collecting box2d-py==2.3.5 (from gymnasium[box2d])\n",
            "  Downloading box2d-py-2.3.5.tar.gz (374 kB)\n",
            "\u001b[2K     \u001b[90m━━━━━━━━━━━━━━━━━━━━━━━━━━━━━━━━━━━━━━━━\u001b[0m \u001b[32m374.4/374.4 kB\u001b[0m \u001b[31m9.7 MB/s\u001b[0m eta \u001b[36m0:00:00\u001b[0m\n",
            "\u001b[?25h  Preparing metadata (setup.py) ... \u001b[?25l\u001b[?25hdone\n",
            "Requirement already satisfied: pygame>=2.1.3 in /usr/local/lib/python3.10/dist-packages (from gymnasium[box2d]) (2.6.1)\n",
            "Requirement already satisfied: swig==4.* in /usr/local/lib/python3.10/dist-packages (from gymnasium[box2d]) (4.2.1.post0)\n",
            "Downloading Farama_Notifications-0.0.4-py3-none-any.whl (2.5 kB)\n",
            "Downloading gymnasium-1.0.0-py3-none-any.whl (958 kB)\n",
            "\u001b[2K   \u001b[90m━━━━━━━━━━━━━━━━━━━━━━━━━━━━━━━━━━━━━━━━\u001b[0m \u001b[32m958.1/958.1 kB\u001b[0m \u001b[31m37.5 MB/s\u001b[0m eta \u001b[36m0:00:00\u001b[0m\n",
            "\u001b[?25hBuilding wheels for collected packages: box2d-py\n",
            "  Building wheel for box2d-py (setup.py) ... \u001b[?25l\u001b[?25hdone\n",
            "  Created wheel for box2d-py: filename=box2d_py-2.3.5-cp310-cp310-linux_x86_64.whl size=2376102 sha256=f0db2ff54ecbad15d95ac8faf569340ba1fde9037c3228c1869d210ac9442a74\n",
            "  Stored in directory: /root/.cache/pip/wheels/db/8f/6a/eaaadf056fba10a98d986f6dce954e6201ba3126926fc5ad9e\n",
            "Successfully built box2d-py\n",
            "Installing collected packages: farama-notifications, box2d-py, gymnasium\n",
            "Successfully installed box2d-py-2.3.5 farama-notifications-0.0.4 gymnasium-1.0.0\n"
          ]
        }
      ]
    },
    {
      "cell_type": "code",
      "source": [
        "# Evaluate the model on the test data\n",
        "test_loss, test_mae = model.evaluate(X_test, y_test, verbose=1)\n",
        "print(f\"Test Loss (MSE): {test_loss}\")\n",
        "print(f\"Test MAE: {test_mae}\")\n"
      ],
      "metadata": {
        "id": "Fi_Slg2I5e7A",
        "colab": {
          "base_uri": "https://localhost:8080/"
        },
        "outputId": "9e206a0c-40df-4da7-dbb8-5b11708c3bd6"
      },
      "execution_count": null,
      "outputs": [
        {
          "output_type": "stream",
          "name": "stdout",
          "text": [
            "\u001b[1m5255/5255\u001b[0m \u001b[32m━━━━━━━━━━━━━━━━━━━━\u001b[0m\u001b[37m\u001b[0m \u001b[1m6s\u001b[0m 1ms/step - loss: 8.4350e-05 - mae: 0.0069\n",
            "Test Loss (MSE): 8.593407255830243e-05\n",
            "Test MAE: 0.006854724138975143\n"
          ]
        }
      ]
    },
    {
      "cell_type": "code",
      "source": [
        "# Import necessary libraries for the simulation\n",
        "import gymnasium as gym\n",
        "import numpy as np\n",
        "from IPython.display import clear_output\n",
        "\n",
        "# Initialize the CarRacing environment\n",
        "env = gym.make(\"CarRacing-v3\", render_mode=\"human\")\n",
        "\n",
        "# Define the number of episodes to run\n",
        "num_episodes = 5\n",
        "\n",
        "# Run the simulation\n",
        "for episode in range(num_episodes):\n",
        "    state, info = env.reset()\n",
        "    done = False\n",
        "    total_reward = 0\n",
        "\n",
        "    while not done:\n",
        "        # Process the current state for feature extraction\n",
        "        # Extract features (you may need to adapt this to how features are represented in your dataset)\n",
        "        volume = state[..., 0].mean()  # Placeholder; replace with actual feature extraction\n",
        "        occupancy = state[..., 1].mean()  # Placeholder\n",
        "        avg_speed = state[..., 2].mean()  # Placeholder\n",
        "        queued = 0  # Placeholder\n",
        "        congested = 0  # Placeholder\n",
        "\n",
        "        # Prepare feature vector\n",
        "        features = [[volume, occupancy, avg_speed, queued, congested]]\n",
        "        state_processed = scaler.transform(features)\n",
        "\n",
        "        # Predict the action\n",
        "        action_value = model.predict(state_processed)[0][0]\n",
        "\n",
        "        # Use the action value to drive the car; scale or modify it if necessary\n",
        "        # Example: Adjust action to be compatible with CarRacing's format [steering, gas, brake]\n",
        "        action = np.array([0, np.clip(action_value / 100, 0, 1), 0], dtype=np.float32)\n",
        "\n",
        "        # Step the environment with the predicted action\n",
        "        next_state, reward, done, truncated, info = env.step(action)\n",
        "\n",
        "        total_reward += reward\n",
        "        state = next_state  # Update state\n",
        "\n",
        "        # Display the current episode and reward\n",
        "        clear_output(wait=True)\n",
        "        print(f\"Episode: {episode + 1}, Total Reward: {total_reward}\")\n",
        "\n",
        "    print(f\"Episode {episode + 1} finished with total reward: {total_reward}\")\n",
        "\n",
        "# Close the environment after simulation\n",
        "env.close()\n"
      ],
      "metadata": {
        "colab": {
          "base_uri": "https://localhost:8080/"
        },
        "id": "UTgeACG8_dQR",
        "outputId": "29e876af-36bf-4a49-f823-d7fb18b601a1"
      },
      "execution_count": null,
      "outputs": [
        {
          "output_type": "stream",
          "name": "stdout",
          "text": [
            "Episode: 4, Total Reward: 70.0479087452472\n",
            "\u001b[1m1/1\u001b[0m \u001b[32m━━━━━━━━━━━━━━━━━━━━\u001b[0m\u001b[37m\u001b[0m \u001b[1m0s\u001b[0m 28ms/step\n"
          ]
        }
      ]
    }
  ]
}